{
 "cells": [
  {
   "cell_type": "code",
   "execution_count": 1,
   "metadata": {},
   "outputs": [],
   "source": [
    "import spacy"
   ]
  },
  {
   "cell_type": "code",
   "execution_count": 2,
   "metadata": {},
   "outputs": [],
   "source": [
    "nlp = spacy.load('en_core_web_sm')"
   ]
  },
  {
   "cell_type": "code",
   "execution_count": 5,
   "metadata": {},
   "outputs": [
    {
     "name": "stdout",
     "output_type": "stream",
     "text": [
      "{'top', 'somewhere', 'while', 'an', 'nine', 'thereby', 'another', 'am', 'towards', 'whom', 'namely', 'except', 'on', 'without', 'become', 'ours', 'no', 'somehow', 'than', 'only', 'just', 'doing', 'though', 'ca', 'were', 'neither', 'one', 'herself', 'their', 'show', 'many', 'to', '‘d', 'that', 'yours', 'it', 'last', \"'ve\", 'from', 'below', 'own', 'seemed', 'after', 'our', 'eight', \"'ll\", 'this', 'around', 'so', 'always', 'anyway', 'name', 'its', 'him', 'get', 'several', 'please', 'first', 'toward', 'off', 'four', 'indeed', 'has', 'whole', 'well', '‘ll', 'wherein', 'could', 'quite', 'next', 'with', 'would', 'whether', 'against', 'say', 'does', 'part', 'regarding', 'in', 'whereas', 'we', 'back', 'more', 'you', 'eleven', 'down', 'before', 'never', 'noone', 'upon', 'now', 'same', 'everything', 'thereafter', 'wherever', 'between', 'herein', 'keep', 'through', 'full', 'twelve', 'take', 'she', 'side', 'latter', 'very', 'others', 'ever', 'i', 'such', 'else', 'over', 'serious', '’ve', \"n't\", 'see', 'been', 'five', 'both', 'used', 'hence', 'may', 'three', 'for', 'whereupon', 'make', 'along', 'us', 'whoever', 'give', 'thence', 'above', 'can', 'did', 'most', 'almost', 'anyone', 'hereby', 'ten', 'besides', 'within', 'why', 'up', 'whither', 'became', 'myself', 'who', 'together', '’re', 'at', 'again', 'he', 'throughout', 'someone', 'might', 'or', 'call', 'enough', 'something', 'here', 'among', 'done', 'nothing', 'seem', 'whose', 'whereafter', 'however', 'seeming', 'few', 'elsewhere', 'former', 'least', 'these', 'hereafter', 'via', 'sometime', 'where', 'formerly', 'which', 'each', 'ourselves', 'and', 'perhaps', 'the', 'nowhere', 'beforehand', 'thereupon', 'twenty', 'even', 'yourself', 'meanwhile', 'by', 'behind', 'not', 'n‘t', 'how', 'unless', 'nobody', \"'re\", 'yet', 'beyond', 'all', 're', 'then', '‘ve', 'hundred', 'his', 'also', '’m', 'therein', '’ll', 'forty', 'none', 'out', 'be', 'but', 'per', 'fifty', 'front', 'what', 'sixty', 'anywhere', 'n’t', 'under', \"'s\", 'bottom', 'whence', 'due', 'must', 'himself', 'whatever', 'itself', 'some', 'using', 'any', 'put', 'fifteen', 'afterwards', 'anything', '’d', 'every', 'made', 'whereby', 'nevertheless', 'themselves', 'anyhow', 'everywhere', 'two', 'rather', 'much', 'of', 'really', 'hers', 'either', 'into', \"'d\", 'being', 'nor', 'hereupon', 'alone', 'cannot', 'have', 'your', 'was', 'because', 'since', 'across', 'seems', 'various', '‘re', 'six', 'amount', 'further', 'until', 'mine', 'when', 'move', '’s', 'my', 'amongst', 'if', 'they', 'often', '‘m', 'is', 'there', 'them', 'are', 'those', 'sometimes', 'her', 'should', \"'m\", 'me', 'less', 'too', 'thus', 'yourselves', 'mostly', 'thru', 'already', 'do', 'latterly', 'beside', '‘s', 'whenever', 'still', 'becomes', 'becoming', 'as', 'will', 'go', 'during', 'empty', 'had', 'therefore', 'other', 'everyone', 'otherwise', 'although', 'once', 'moreover', 'onto', 'about', 'third', 'a'}\n"
     ]
    }
   ],
   "source": [
    "print(nlp.Defaults.stop_words)"
   ]
  },
  {
   "cell_type": "code",
   "execution_count": 6,
   "metadata": {},
   "outputs": [
    {
     "data": {
      "text/plain": [
       "326"
      ]
     },
     "execution_count": 6,
     "metadata": {},
     "output_type": "execute_result"
    }
   ],
   "source": [
    "len(nlp.Defaults.stop_words)"
   ]
  },
  {
   "cell_type": "code",
   "execution_count": 7,
   "metadata": {},
   "outputs": [
    {
     "data": {
      "text/plain": [
       "False"
      ]
     },
     "execution_count": 7,
     "metadata": {},
     "output_type": "execute_result"
    }
   ],
   "source": [
    "nlp.vocab['mystery'].is_stop"
   ]
  },
  {
   "cell_type": "code",
   "execution_count": 8,
   "metadata": {},
   "outputs": [
    {
     "data": {
      "text/plain": [
       "True"
      ]
     },
     "execution_count": 8,
     "metadata": {},
     "output_type": "execute_result"
    }
   ],
   "source": [
    "nlp.vocab['is'].is_stop"
   ]
  },
  {
   "cell_type": "code",
   "execution_count": 9,
   "metadata": {},
   "outputs": [
    {
     "data": {
      "text/plain": [
       "False"
      ]
     },
     "execution_count": 9,
     "metadata": {},
     "output_type": "execute_result"
    }
   ],
   "source": [
    "nlp.vocab['btw'].is_stop"
   ]
  },
  {
   "cell_type": "code",
   "execution_count": 10,
   "metadata": {},
   "outputs": [],
   "source": [
    "nlp.Defaults.stop_words.add('btw')"
   ]
  },
  {
   "cell_type": "code",
   "execution_count": 11,
   "metadata": {},
   "outputs": [
    {
     "data": {
      "text/plain": [
       "True"
      ]
     },
     "execution_count": 11,
     "metadata": {},
     "output_type": "execute_result"
    }
   ],
   "source": [
    "nlp.vocab['is'].is_stop"
   ]
  },
  {
   "cell_type": "code",
   "execution_count": 14,
   "metadata": {},
   "outputs": [
    {
     "data": {
      "text/plain": [
       "True"
      ]
     },
     "execution_count": 14,
     "metadata": {},
     "output_type": "execute_result"
    }
   ],
   "source": [
    "nlp.vocab['beyond'].is_stop"
   ]
  },
  {
   "cell_type": "code",
   "execution_count": 21,
   "metadata": {},
   "outputs": [],
   "source": [
    "nlp.Defaults.stop_words.remove('beyond')"
   ]
  },
  {
   "cell_type": "code",
   "execution_count": 19,
   "metadata": {},
   "outputs": [
    {
     "data": {
      "text/plain": [
       "False"
      ]
     },
     "execution_count": 19,
     "metadata": {},
     "output_type": "execute_result"
    }
   ],
   "source": [
    "nlp.vocab['beyond'].is_stop"
   ]
  }
 ],
 "metadata": {
  "kernelspec": {
   "display_name": "Python 3",
   "language": "python",
   "name": "python3"
  },
  "language_info": {
   "codemirror_mode": {
    "name": "ipython",
    "version": 3
   },
   "file_extension": ".py",
   "mimetype": "text/x-python",
   "name": "python",
   "nbconvert_exporter": "python",
   "pygments_lexer": "ipython3",
   "version": "3.8.3"
  }
 },
 "nbformat": 4,
 "nbformat_minor": 4
}
